{
  "nbformat": 4,
  "nbformat_minor": 0,
  "metadata": {
    "colab": {
      "name": "NLP Course - Week 3 Exercise Answer.ipynb",
      "provenance": []
    },
    "kernelspec": {
      "name": "python3",
      "display_name": "Python 3"
    },
    "accelerator": "GPU"
  },
  "cells": [
    {
      "cell_type": "code",
      "metadata": {
        "id": "hmA6EzkQJ5jt",
        "colab_type": "code",
        "colab": {
          "base_uri": "https://localhost:8080/",
          "height": 63
        },
        "outputId": "764f4137-133e-457d-87bd-901b83f1d119"
      },
      "source": [
        "import json\n",
        "import tensorflow as tf\n",
        "import csv\n",
        "import random\n",
        "import numpy as np\n",
        "\n",
        "from tensorflow.keras.preprocessing.text import Tokenizer\n",
        "from tensorflow.keras.preprocessing.sequence import pad_sequences\n",
        "from tensorflow.keras.utils import to_categorical\n",
        "from tensorflow.keras import regularizers\n",
        "\n",
        "\n",
        "embedding_dim = 100\n",
        "max_length = 16\n",
        "trunc_type='post'\n",
        "padding_type='post'\n",
        "oov_tok = \"<OOV>\"\n",
        "training_size=160000\n",
        "test_portion=.1\n",
        "\n",
        "corpus = []\n"
      ],
      "execution_count": 1,
      "outputs": [
        {
          "output_type": "display_data",
          "data": {
            "text/html": [
              "<p style=\"color: red;\">\n",
              "The default version of TensorFlow in Colab will switch to TensorFlow 2.x on the 27th of March, 2020.<br>\n",
              "We recommend you <a href=\"https://www.tensorflow.org/guide/migrate\" target=\"_blank\">upgrade</a> now\n",
              "or ensure your notebook will continue to use TensorFlow 1.x via the <code>%tensorflow_version 1.x</code> magic:\n",
              "<a href=\"https://colab.research.google.com/notebooks/tensorflow_version.ipynb\" target=\"_blank\">more info</a>.</p>\n"
            ],
            "text/plain": [
              "<IPython.core.display.HTML object>"
            ]
          },
          "metadata": {
            "tags": []
          }
        }
      ]
    },
    {
      "cell_type": "code",
      "metadata": {
        "id": "bM0l_dORKqE0",
        "colab_type": "code",
        "outputId": "27221688-6c57-4857-b45f-f166bcc5bc02",
        "colab": {
          "base_uri": "https://localhost:8080/",
          "height": 204
        }
      },
      "source": [
        "\n",
        "# Note that I cleaned the Stanford dataset to remove LATIN1 encoding to make it easier for Python CSV reader\n",
        "# You can do that yourself with:\n",
        "# iconv -f LATIN1 -t UTF8 training.1600000.processed.noemoticon.csv -o training_cleaned.csv\n",
        "# I then hosted it on my site to make it easier to use in this notebook\n",
        "\n",
        "!wget --no-check-certificate \\\n",
        "    https://storage.googleapis.com/laurencemoroney-blog.appspot.com/training_cleaned.csv \\\n",
        "    -O /tmp/training_cleaned.csv\n",
        "\n",
        "num_sentences = 0\n",
        "\n",
        "with open(\"/tmp/training_cleaned.csv\") as csvfile:\n",
        "    reader = csv.reader(csvfile, delimiter=',')\n",
        "    for row in reader:\n",
        "        list_item=[]\n",
        "        list_item.append(row[5])\n",
        "        this_label=row[0]\n",
        "        if this_label=='0':\n",
        "            list_item.append(0)\n",
        "        else:\n",
        "            list_item.append(1)\n",
        "        num_sentences = num_sentences + 1\n",
        "        corpus.append(list_item)\n",
        "\n",
        "\n"
      ],
      "execution_count": 2,
      "outputs": [
        {
          "output_type": "stream",
          "text": [
            "--2020-03-26 23:07:45--  https://storage.googleapis.com/laurencemoroney-blog.appspot.com/training_cleaned.csv\n",
            "Resolving storage.googleapis.com (storage.googleapis.com)... 172.217.3.16, 2607:f8b0:4026:801::2010\n",
            "Connecting to storage.googleapis.com (storage.googleapis.com)|172.217.3.16|:443... connected.\n",
            "HTTP request sent, awaiting response... 200 OK\n",
            "Length: 238942690 (228M) [application/octet-stream]\n",
            "Saving to: ‘/tmp/training_cleaned.csv’\n",
            "\n",
            "/tmp/training_clean 100%[===================>] 227.87M  51.5MB/s    in 4.4s    \n",
            "\n",
            "2020-03-26 23:07:55 (51.5 MB/s) - ‘/tmp/training_cleaned.csv’ saved [238942690/238942690]\n",
            "\n"
          ],
          "name": "stdout"
        }
      ]
    },
    {
      "cell_type": "code",
      "metadata": {
        "id": "3kxblBUjEUX-",
        "colab_type": "code",
        "outputId": "45c58c31-2032-402a-dffc-122bfc822fc7",
        "colab": {
          "base_uri": "https://localhost:8080/",
          "height": 68
        }
      },
      "source": [
        "print(num_sentences)\n",
        "print(len(corpus))\n",
        "print(corpus[1])\n",
        "\n",
        "# Expected Output:\n",
        "# 1600000\n",
        "# 1600000\n",
        "# [\"is upset that he can't update his Facebook by texting it... and might cry as a result  School today also. Blah!\", 0]"
      ],
      "execution_count": 3,
      "outputs": [
        {
          "output_type": "stream",
          "text": [
            "1600000\n",
            "1600000\n",
            "[\"is upset that he can't update his Facebook by texting it... and might cry as a result  School today also. Blah!\", 0]\n"
          ],
          "name": "stdout"
        }
      ]
    },
    {
      "cell_type": "code",
      "metadata": {
        "id": "ohOGz24lsNAD",
        "colab_type": "code",
        "colab": {}
      },
      "source": [
        "sentences=[]\n",
        "labels=[]\n",
        "random.shuffle(corpus)\n",
        "for x in range(training_size):\n",
        "    sentences.append(corpus[x][0])\n",
        "    labels.append(corpus[x][1])\n",
        "\n",
        "\n",
        "tokenizer = Tokenizer()\n",
        "tokenizer.fit_on_texts(sentences)\n",
        "\n",
        "word_index = tokenizer.word_index\n",
        "vocab_size=len(word_index)\n",
        "\n",
        "sequences = tokenizer.texts_to_sequences(sentences)\n",
        "padded = pad_sequences(sequences, maxlen=max_length, padding=padding_type, truncating=trunc_type)\n",
        "\n",
        "split = int(test_portion * training_size)\n",
        "\n",
        "test_sequences = padded[0:split]\n",
        "training_sequences = padded[split:training_size]\n",
        "test_labels = labels[0:split]\n",
        "training_labels = labels[split:training_size]"
      ],
      "execution_count": 0,
      "outputs": []
    },
    {
      "cell_type": "code",
      "metadata": {
        "id": "gIrtRem1En3N",
        "colab_type": "code",
        "outputId": "7f8db74e-1fb9-4778-f477-20d6affe6dbd",
        "colab": {
          "base_uri": "https://localhost:8080/",
          "height": 51
        }
      },
      "source": [
        "print(vocab_size)\n",
        "print(word_index['i'])\n",
        "# Expected Output\n",
        "# 138858\n",
        "# 1"
      ],
      "execution_count": 5,
      "outputs": [
        {
          "output_type": "stream",
          "text": [
            "138763\n",
            "1\n"
          ],
          "name": "stdout"
        }
      ]
    },
    {
      "cell_type": "code",
      "metadata": {
        "id": "C1zdgJkusRh0",
        "colab_type": "code",
        "outputId": "8ba50cd0-054f-4309-e6e0-fd6c0928554b",
        "colab": {
          "base_uri": "https://localhost:8080/",
          "height": 204
        }
      },
      "source": [
        "# Note this is the 100 dimension version of GloVe from Stanford\n",
        "# I unzipped and hosted it on my site to make this notebook easier\n",
        "!wget --no-check-certificate \\\n",
        "    https://storage.googleapis.com/laurencemoroney-blog.appspot.com/glove.6B.100d.txt \\\n",
        "    -O /tmp/glove.6B.100d.txt\n",
        "embeddings_index = {};\n",
        "with open('/tmp/glove.6B.100d.txt') as f:\n",
        "    for line in f:\n",
        "        values = line.split();\n",
        "        word = values[0];\n",
        "        coefs = np.asarray(values[1:], dtype='float32');\n",
        "        embeddings_index[word] = coefs;\n",
        "\n",
        "embeddings_matrix = np.zeros((vocab_size+1, embedding_dim));\n",
        "for word, i in word_index.items():\n",
        "    embedding_vector = embeddings_index.get(word);\n",
        "    if embedding_vector is not None:\n",
        "        embeddings_matrix[i] = embedding_vector;"
      ],
      "execution_count": 6,
      "outputs": [
        {
          "output_type": "stream",
          "text": [
            "--2020-03-26 23:08:08--  https://storage.googleapis.com/laurencemoroney-blog.appspot.com/glove.6B.100d.txt\n",
            "Resolving storage.googleapis.com (storage.googleapis.com)... 172.217.3.16, 2607:f8b0:4026:803::2010\n",
            "Connecting to storage.googleapis.com (storage.googleapis.com)|172.217.3.16|:443... connected.\n",
            "HTTP request sent, awaiting response... 200 OK\n",
            "Length: 347116733 (331M) [text/plain]\n",
            "Saving to: ‘/tmp/glove.6B.100d.txt’\n",
            "\n",
            "/tmp/glove.6B.100d. 100%[===================>] 331.04M   119MB/s    in 2.8s    \n",
            "\n",
            "2020-03-26 23:08:11 (119 MB/s) - ‘/tmp/glove.6B.100d.txt’ saved [347116733/347116733]\n",
            "\n"
          ],
          "name": "stdout"
        }
      ]
    },
    {
      "cell_type": "code",
      "metadata": {
        "id": "71NLk_lpFLNt",
        "colab_type": "code",
        "outputId": "addea898-23ee-4d37-e695-9d5b64f5efb8",
        "colab": {
          "base_uri": "https://localhost:8080/",
          "height": 34
        }
      },
      "source": [
        "print(len(embeddings_matrix))\n",
        "# Expected Output\n",
        "# 138859"
      ],
      "execution_count": 7,
      "outputs": [
        {
          "output_type": "stream",
          "text": [
            "138764\n"
          ],
          "name": "stdout"
        }
      ]
    },
    {
      "cell_type": "code",
      "metadata": {
        "colab_type": "code",
        "id": "iKKvbuEBOGFz",
        "colab": {
          "base_uri": "https://localhost:8080/",
          "height": 1000
        },
        "outputId": "d53a071c-2da1-47b0-d72a-49b427beb234"
      },
      "source": [
        "model = tf.keras.Sequential([\n",
        "    tf.keras.layers.Embedding(vocab_size+1, embedding_dim, input_length=max_length, weights=[embeddings_matrix], trainable=False),\n",
        "    tf.keras.layers.Dropout(0.2),\n",
        "    tf.keras.layers.Conv1D(64, 5, activation='relu'),\n",
        "    tf.keras.layers.MaxPooling1D(pool_size=4),\n",
        "    tf.keras.layers.LSTM(64),\n",
        "    tf.keras.layers.Dense(1, activation='sigmoid')\n",
        "])\n",
        "model.compile(loss='binary_crossentropy',optimizer='adam',metrics=['accuracy'])\n",
        "model.summary()\n",
        "\n",
        "num_epochs = 50\n",
        "history = model.fit(training_sequences, training_labels, epochs=num_epochs, validation_data=(test_sequences, test_labels), verbose=2)\n",
        "\n",
        "print(\"Training Complete\")\n"
      ],
      "execution_count": 8,
      "outputs": [
        {
          "output_type": "stream",
          "text": [
            "WARNING:tensorflow:From /tensorflow-1.15.2/python3.6/tensorflow_core/python/keras/initializers.py:119: calling RandomUniform.__init__ (from tensorflow.python.ops.init_ops) with dtype is deprecated and will be removed in a future version.\n",
            "Instructions for updating:\n",
            "Call initializer instance with the dtype argument instead of passing it to the constructor\n",
            "WARNING:tensorflow:From /tensorflow-1.15.2/python3.6/tensorflow_core/python/ops/resource_variable_ops.py:1630: calling BaseResourceVariable.__init__ (from tensorflow.python.ops.resource_variable_ops) with constraint is deprecated and will be removed in a future version.\n",
            "Instructions for updating:\n",
            "If using Keras pass *_constraint arguments to layers.\n",
            "WARNING:tensorflow:From /tensorflow-1.15.2/python3.6/tensorflow_core/python/ops/nn_impl.py:183: where (from tensorflow.python.ops.array_ops) is deprecated and will be removed in a future version.\n",
            "Instructions for updating:\n",
            "Use tf.where in 2.0, which has the same broadcast rule as np.where\n",
            "Model: \"sequential\"\n",
            "_________________________________________________________________\n",
            "Layer (type)                 Output Shape              Param #   \n",
            "=================================================================\n",
            "embedding (Embedding)        (None, 16, 100)           13876400  \n",
            "_________________________________________________________________\n",
            "dropout (Dropout)            (None, 16, 100)           0         \n",
            "_________________________________________________________________\n",
            "conv1d (Conv1D)              (None, 12, 64)            32064     \n",
            "_________________________________________________________________\n",
            "max_pooling1d (MaxPooling1D) (None, 3, 64)             0         \n",
            "_________________________________________________________________\n",
            "lstm (LSTM)                  (None, 64)                33024     \n",
            "_________________________________________________________________\n",
            "dense (Dense)                (None, 1)                 65        \n",
            "=================================================================\n",
            "Total params: 13,941,553\n",
            "Trainable params: 65,153\n",
            "Non-trainable params: 13,876,400\n",
            "_________________________________________________________________\n",
            "Train on 144000 samples, validate on 16000 samples\n",
            "Epoch 1/50\n",
            "144000/144000 - 39s - loss: 0.5675 - acc: 0.7000 - val_loss: 0.5295 - val_acc: 0.7351\n",
            "Epoch 2/50\n",
            "144000/144000 - 32s - loss: 0.5266 - acc: 0.7318 - val_loss: 0.5193 - val_acc: 0.7432\n",
            "Epoch 3/50\n",
            "144000/144000 - 31s - loss: 0.5104 - acc: 0.7450 - val_loss: 0.5114 - val_acc: 0.7491\n",
            "Epoch 4/50\n",
            "144000/144000 - 31s - loss: 0.4992 - acc: 0.7530 - val_loss: 0.5150 - val_acc: 0.7418\n",
            "Epoch 5/50\n",
            "144000/144000 - 31s - loss: 0.4912 - acc: 0.7573 - val_loss: 0.5107 - val_acc: 0.7447\n",
            "Epoch 6/50\n",
            "144000/144000 - 31s - loss: 0.4842 - acc: 0.7613 - val_loss: 0.5092 - val_acc: 0.7467\n",
            "Epoch 7/50\n",
            "144000/144000 - 31s - loss: 0.4784 - acc: 0.7656 - val_loss: 0.5080 - val_acc: 0.7491\n",
            "Epoch 8/50\n",
            "144000/144000 - 31s - loss: 0.4721 - acc: 0.7681 - val_loss: 0.5133 - val_acc: 0.7433\n",
            "Epoch 9/50\n",
            "144000/144000 - 31s - loss: 0.4675 - acc: 0.7720 - val_loss: 0.5088 - val_acc: 0.7507\n",
            "Epoch 10/50\n",
            "144000/144000 - 31s - loss: 0.4647 - acc: 0.7732 - val_loss: 0.5118 - val_acc: 0.7472\n",
            "Epoch 11/50\n",
            "144000/144000 - 31s - loss: 0.4618 - acc: 0.7757 - val_loss: 0.5132 - val_acc: 0.7471\n",
            "Epoch 12/50\n",
            "144000/144000 - 31s - loss: 0.4573 - acc: 0.7784 - val_loss: 0.5128 - val_acc: 0.7474\n",
            "Epoch 13/50\n",
            "144000/144000 - 32s - loss: 0.4556 - acc: 0.7805 - val_loss: 0.5133 - val_acc: 0.7476\n",
            "Epoch 14/50\n",
            "144000/144000 - 31s - loss: 0.4539 - acc: 0.7807 - val_loss: 0.5113 - val_acc: 0.7457\n",
            "Epoch 15/50\n",
            "144000/144000 - 31s - loss: 0.4517 - acc: 0.7822 - val_loss: 0.5110 - val_acc: 0.7496\n",
            "Epoch 16/50\n",
            "144000/144000 - 31s - loss: 0.4502 - acc: 0.7819 - val_loss: 0.5112 - val_acc: 0.7483\n",
            "Epoch 17/50\n",
            "144000/144000 - 31s - loss: 0.4480 - acc: 0.7840 - val_loss: 0.5135 - val_acc: 0.7469\n",
            "Epoch 18/50\n",
            "144000/144000 - 31s - loss: 0.4468 - acc: 0.7845 - val_loss: 0.5211 - val_acc: 0.7454\n",
            "Epoch 19/50\n",
            "144000/144000 - 31s - loss: 0.4446 - acc: 0.7870 - val_loss: 0.5180 - val_acc: 0.7483\n",
            "Epoch 20/50\n",
            "144000/144000 - 31s - loss: 0.4429 - acc: 0.7875 - val_loss: 0.5254 - val_acc: 0.7446\n",
            "Epoch 21/50\n",
            "144000/144000 - 31s - loss: 0.4417 - acc: 0.7874 - val_loss: 0.5263 - val_acc: 0.7436\n",
            "Epoch 22/50\n",
            "144000/144000 - 31s - loss: 0.4407 - acc: 0.7878 - val_loss: 0.5197 - val_acc: 0.7453\n",
            "Epoch 23/50\n",
            "144000/144000 - 31s - loss: 0.4388 - acc: 0.7892 - val_loss: 0.5183 - val_acc: 0.7487\n",
            "Epoch 24/50\n",
            "144000/144000 - 31s - loss: 0.4390 - acc: 0.7899 - val_loss: 0.5241 - val_acc: 0.7473\n",
            "Epoch 25/50\n",
            "144000/144000 - 31s - loss: 0.4387 - acc: 0.7901 - val_loss: 0.5186 - val_acc: 0.7477\n",
            "Epoch 26/50\n",
            "144000/144000 - 31s - loss: 0.4356 - acc: 0.7916 - val_loss: 0.5270 - val_acc: 0.7451\n",
            "Epoch 27/50\n",
            "144000/144000 - 31s - loss: 0.4366 - acc: 0.7910 - val_loss: 0.5237 - val_acc: 0.7439\n",
            "Epoch 28/50\n",
            "144000/144000 - 30s - loss: 0.4369 - acc: 0.7922 - val_loss: 0.5249 - val_acc: 0.7466\n",
            "Epoch 29/50\n",
            "144000/144000 - 31s - loss: 0.4351 - acc: 0.7927 - val_loss: 0.5228 - val_acc: 0.7446\n",
            "Epoch 30/50\n",
            "144000/144000 - 30s - loss: 0.4345 - acc: 0.7920 - val_loss: 0.5194 - val_acc: 0.7432\n",
            "Epoch 31/50\n",
            "144000/144000 - 31s - loss: 0.4337 - acc: 0.7927 - val_loss: 0.5350 - val_acc: 0.7461\n",
            "Epoch 32/50\n",
            "144000/144000 - 31s - loss: 0.4332 - acc: 0.7925 - val_loss: 0.5213 - val_acc: 0.7474\n",
            "Epoch 33/50\n",
            "144000/144000 - 31s - loss: 0.4339 - acc: 0.7929 - val_loss: 0.5280 - val_acc: 0.7473\n",
            "Epoch 34/50\n",
            "144000/144000 - 31s - loss: 0.4329 - acc: 0.7934 - val_loss: 0.5292 - val_acc: 0.7429\n",
            "Epoch 35/50\n",
            "144000/144000 - 30s - loss: 0.4328 - acc: 0.7930 - val_loss: 0.5250 - val_acc: 0.7466\n",
            "Epoch 36/50\n",
            "144000/144000 - 30s - loss: 0.4324 - acc: 0.7937 - val_loss: 0.5296 - val_acc: 0.7472\n",
            "Epoch 37/50\n",
            "144000/144000 - 30s - loss: 0.4308 - acc: 0.7940 - val_loss: 0.5247 - val_acc: 0.7476\n",
            "Epoch 38/50\n",
            "144000/144000 - 30s - loss: 0.4304 - acc: 0.7948 - val_loss: 0.5288 - val_acc: 0.7458\n",
            "Epoch 39/50\n",
            "144000/144000 - 30s - loss: 0.4309 - acc: 0.7952 - val_loss: 0.5248 - val_acc: 0.7486\n",
            "Epoch 40/50\n",
            "144000/144000 - 30s - loss: 0.4306 - acc: 0.7951 - val_loss: 0.5263 - val_acc: 0.7483\n",
            "Epoch 41/50\n",
            "144000/144000 - 30s - loss: 0.4307 - acc: 0.7945 - val_loss: 0.5396 - val_acc: 0.7462\n",
            "Epoch 42/50\n",
            "144000/144000 - 31s - loss: 0.4294 - acc: 0.7955 - val_loss: 0.5302 - val_acc: 0.7453\n",
            "Epoch 43/50\n",
            "144000/144000 - 30s - loss: 0.4301 - acc: 0.7945 - val_loss: 0.5298 - val_acc: 0.7506\n",
            "Epoch 44/50\n",
            "144000/144000 - 30s - loss: 0.4298 - acc: 0.7949 - val_loss: 0.5251 - val_acc: 0.7464\n",
            "Epoch 45/50\n",
            "144000/144000 - 30s - loss: 0.4296 - acc: 0.7953 - val_loss: 0.5245 - val_acc: 0.7441\n",
            "Epoch 46/50\n",
            "144000/144000 - 30s - loss: 0.4272 - acc: 0.7972 - val_loss: 0.5291 - val_acc: 0.7474\n",
            "Epoch 47/50\n",
            "144000/144000 - 30s - loss: 0.4273 - acc: 0.7961 - val_loss: 0.5311 - val_acc: 0.7441\n",
            "Epoch 48/50\n",
            "144000/144000 - 30s - loss: 0.4276 - acc: 0.7965 - val_loss: 0.5260 - val_acc: 0.7460\n",
            "Epoch 49/50\n",
            "144000/144000 - 30s - loss: 0.4287 - acc: 0.7958 - val_loss: 0.5255 - val_acc: 0.7486\n",
            "Epoch 50/50\n",
            "144000/144000 - 30s - loss: 0.4289 - acc: 0.7958 - val_loss: 0.5328 - val_acc: 0.7451\n",
            "Training Complete\n"
          ],
          "name": "stdout"
        }
      ]
    },
    {
      "cell_type": "code",
      "metadata": {
        "id": "qxju4ItJKO8F",
        "colab_type": "code",
        "colab": {
          "base_uri": "https://localhost:8080/",
          "height": 607
        },
        "outputId": "c29af72d-278d-4052-c21f-6ef00a86b287"
      },
      "source": [
        "import matplotlib.image  as mpimg\n",
        "import matplotlib.pyplot as plt\n",
        "\n",
        "#-----------------------------------------------------------\n",
        "# Retrieve a list of list results on training and test data\n",
        "# sets for each training epoch\n",
        "#-----------------------------------------------------------\n",
        "acc=history.history['acc']\n",
        "val_acc=history.history['val_acc']\n",
        "loss=history.history['loss']\n",
        "val_loss=history.history['val_loss']\n",
        "\n",
        "epochs=range(len(acc)) # Get number of epochs\n",
        "\n",
        "#------------------------------------------------\n",
        "# Plot training and validation accuracy per epoch\n",
        "#------------------------------------------------\n",
        "plt.plot(epochs, acc, 'r')\n",
        "plt.plot(epochs, val_acc, 'b')\n",
        "plt.title('Training and validation accuracy')\n",
        "plt.xlabel(\"Epochs\")\n",
        "plt.ylabel(\"Accuracy\")\n",
        "plt.legend([\"Accuracy\", \"Validation Accuracy\"])\n",
        "\n",
        "plt.figure()\n",
        "\n",
        "#------------------------------------------------\n",
        "# Plot training and validation loss per epoch\n",
        "#------------------------------------------------\n",
        "plt.plot(epochs, loss, 'r')\n",
        "plt.plot(epochs, val_loss, 'b')\n",
        "plt.title('Training and validation loss')\n",
        "plt.xlabel(\"Epochs\")\n",
        "plt.ylabel(\"Loss\")\n",
        "plt.legend([\"Loss\", \"Validation Loss\"])\n",
        "\n",
        "plt.figure()\n",
        "\n",
        "\n",
        "# Expected Output\n",
        "# A chart where the validation loss does not increase sharply!"
      ],
      "execution_count": 9,
      "outputs": [
        {
          "output_type": "execute_result",
          "data": {
            "text/plain": [
              "<Figure size 432x288 with 0 Axes>"
            ]
          },
          "metadata": {
            "tags": []
          },
          "execution_count": 9
        },
        {
          "output_type": "display_data",
          "data": {
            "image/png": "[encoded data removed]",
            "text/plain": [
              "<Figure size 432x288 with 1 Axes>"
            ]
          },
          "metadata": {
            "tags": []
          }
        },
        {
          "output_type": "display_data",
          "data": {
            "image/png": "[encoded data removed]",
            "text/plain": [
              "<Figure size 432x288 with 1 Axes>"
            ]
          },
          "metadata": {
            "tags": []
          }
        },
        {
          "output_type": "display_data",
          "data": {
            "text/plain": [
              "<Figure size 432x288 with 0 Axes>"
            ]
          },
          "metadata": {
            "tags": []
          }
        }
      ]
    }
  ]
}